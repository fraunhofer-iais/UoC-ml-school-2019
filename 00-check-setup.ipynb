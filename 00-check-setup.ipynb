{
 "cells": [
  {
   "cell_type": "markdown",
   "metadata": {},
   "source": [
    "# Congratulations Already!\n",
    "\n",
    "- This is a Jupyter Notebook. It is made of executable cells.\n",
    "- Some cells have text (in Markdown), some have executable code!\n",
    "- Abdullah will be demonstrating how to use it soon, but if he is too boring or unclear, [read through this](https://nbviewer.jupyter.org/github/jupyter/notebook/blob/master/docs/source/examples/Notebook/Notebook%20Basics.ipynb)\n",
    "\n",
    "---\n",
    "# Acquire the `data.zip`\n",
    "\n",
    "- Somehow, from someone, you will get a `data.zip` file.\n",
    "- Unzip it.\n",
    "- Copy all the contents to the directory where you have cloned this repository.\n",
    "    + directory `prepared` to `data/prepared`\n",
    "    + directory `models` to `data/models`\n",
    "- **Once done** copying the directories, run the code cells below. They should not throw any errors."
   ]
  },
  {
   "cell_type": "code",
   "execution_count": null,
   "metadata": {
    "ExecuteTime": {
     "end_time": "2018-09-29T03:42:26.127792Z",
     "start_time": "2018-09-29T03:42:26.124790Z"
    }
   },
   "outputs": [],
   "source": [
    "from pathlib import Path"
   ]
  },
  {
   "cell_type": "code",
   "execution_count": null,
   "metadata": {
    "ExecuteTime": {
     "end_time": "2018-09-29T03:42:26.173996Z",
     "start_time": "2018-09-29T03:42:26.130791Z"
    }
   },
   "outputs": [],
   "source": [
    "dir_pickles = Path.cwd().joinpath(\"data/prepared/pickles/20190909-vggish_embedding\")\n",
    "\n",
    "assert all(\n",
    "    dir_pickles.joinpath(f'{split_name}.tfrecord').exists() for split_name in ['trn', 'val']\n",
    "), 'Missing prepared tfrecord files in `data/prepared`'"
   ]
  },
  {
   "cell_type": "code",
   "execution_count": null,
   "metadata": {
    "ExecuteTime": {
     "end_time": "2018-09-29T03:42:34.536294Z",
     "start_time": "2018-09-29T03:42:26.175896Z"
    }
   },
   "outputs": [],
   "source": [
    "from audioset.vggish_smoke_test import *"
   ]
  }
 ],
 "metadata": {
  "kernelspec": {
   "display_name": "Python 3",
   "language": "python",
   "name": "python3"
  },
  "language_info": {
   "codemirror_mode": {
    "name": "ipython",
    "version": 3
   },
   "file_extension": ".py",
   "mimetype": "text/x-python",
   "name": "python",
   "nbconvert_exporter": "python",
   "pygments_lexer": "ipython3",
   "version": "3.7.3"
  }
 },
 "nbformat": 4,
 "nbformat_minor": 2
}
