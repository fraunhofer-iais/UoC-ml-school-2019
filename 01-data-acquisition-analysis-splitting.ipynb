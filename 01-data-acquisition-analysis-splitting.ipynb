{
 "cells": [
  {
   "cell_type": "markdown",
   "metadata": {},
   "source": [
    "# Acquisition and Analysis of raw dataset `[mostly REDACTED]`\n",
    "\n",
    "The goal of this notebook is to document how:\n",
    "- the raw dataset was acquired,\n",
    "- the dataset was copied into a structured directory to be used for analysis,\n",
    "    + any renaming or ignoring of files has been documented\n",
    "    + the required classes and functions were implemented to analyze the dataset,\n",
    "- the analysis of the various relevant properties of the dataset was performed.\n",
    "    + further renaming or ignoring of files has been documented, if any\n",
    "- the dataset was split into training, validation and testing sub-sets and stored in `data/prepared`."
   ]
  },
  {
   "cell_type": "markdown",
   "metadata": {},
   "source": [
    "## Data Acquisition\n",
    "\n",
    "### `[REDACTED]`\n",
    "\n",
    "---"
   ]
  },
  {
   "cell_type": "markdown",
   "metadata": {},
   "source": [
    "## Implementing useful classes and functions\n",
    "\n",
    "Useful classes and functions will be implemented in this stage to be able to read the data and labels, and, more specifically, be able to work with the audio and label files for training double-talk detection model later on.\n",
    "\n",
    "### Gather all filepaths\n",
    "\n",
    "> **NOTE:**\n",
    ">\n",
    "> If it is not clear by now, we will be, from now on, working exclusively with the working directory we created in the previous step. Keep that in mind for all the instructions to come.\n",
    "\n",
    "\n",
    "To gather:\n",
    "- Paths to all audio files (.wav)\n",
    "- Paths to all transcriptions to be used as labels (.eaf)"
   ]
  },
  {
   "cell_type": "markdown",
   "metadata": {
    "ExecuteTime": {
     "end_time": "2018-09-27T18:58:19.307293Z",
     "start_time": "2018-09-27T18:58:19.296260Z"
    }
   },
   "source": [
    "```\n",
    "Found audio files: 230\n",
    "Found transcription files: 230\n",
    "\n",
    "All audio files have corresponding transcription files: True\n",
    "```"
   ]
  },
  {
   "cell_type": "markdown",
   "metadata": {},
   "source": [
    "---\n",
    "## Analysis\n",
    "\n",
    "Various analyses could be performed on the acquired, and now parsed, data.\n",
    "For example, what is the typical duration of overlaps, etc.\n",
    "\n",
    "These analyses will help us choose an appropriate set of training, validation and testing data,\n",
    "and skip if there are any problematic ones around (of course with appropriate documentation).\n",
    "\n",
    "### `[REDACTED]`"
   ]
  },
  {
   "cell_type": "markdown",
   "metadata": {},
   "source": [
    "---\n",
    "## Assigning conversations to training, validation and testing splits\n",
    "\n",
    "**Guidelines Followed**\n",
    "- Keep no more than 1/3rd for testing.\n",
    "- If a scenario (based on participants) is in the testing/validation set, no file from that scenario should be in the training set, as far as possible\n",
    "- When there's a choice, keep the longer one for training.\n",
    "- When there's a choice, keep more overlaps for training.\n",
    "- Do keep files with no overlaps, and keep in training and testing, where possible.\n",
    "    + **If nothing, it may help in silence and single-speaker speech detection.**\n",
    "    \n",
    "---"
   ]
  },
  {
   "cell_type": "markdown",
   "metadata": {},
   "source": [
    "**Report**\n",
    "\n",
    "```\n",
    "TRN |  160 ( 69.57%) files | 21h  4m 59.69s ( 67.13%) | no 35.78%( 67.62%) sp 59.14%( 66.51%) ov  5.08%( 71.19%)\n",
    "TST |   62 ( 26.96%) files |  9h  9m 26.50s ( 29.16%) | no 35.48%( 29.12%) sp 60.44%( 29.52%) ov  4.08%( 24.86%)\n",
    "VAL |    8 (  3.48%) files |  1h 10m  5.30s (  3.72%) | no 31.14%(  3.26%) sp 63.77%(  3.97%) ov  5.09%(  3.95%)\n",
    "```\n",
    "\n",
    "- We now have splitting decisions done.\n",
    "- Not very fair splitting, and everything was done manually, and not with much genius. So, questionable these decisions could be.\n",
    "- The above cells are where all the decisions are made."
   ]
  },
  {
   "cell_type": "markdown",
   "metadata": {},
   "source": [
    "---\n",
    "## COPY files to their respective splits\n",
    "### `[REDACTED]`\n",
    "\n",
    "---\n",
    "### Check all files have been moved to the appropriate paths\n",
    "`[manually]`"
   ]
  }
 ],
 "metadata": {
  "anaconda-cloud": {},
  "celltoolbar": "Raw Cell Format",
  "kernelspec": {
   "display_name": "Python 3",
   "language": "python",
   "name": "python3"
  },
  "language_info": {
   "codemirror_mode": {
    "name": "ipython",
    "version": 3
   },
   "file_extension": ".py",
   "mimetype": "text/x-python",
   "name": "python",
   "nbconvert_exporter": "python",
   "pygments_lexer": "ipython3",
   "version": "3.7.3"
  },
  "latex_envs": {
   "bibliofile": "biblio.bib",
   "cite_by": "apalike",
   "current_citInitial": 1,
   "eqLabelWithNumbers": true,
   "eqNumInitial": 0
  },
  "nav_menu": {},
  "toc": {
   "navigate_menu": true,
   "number_sections": true,
   "sideBar": true,
   "threshold": 6,
   "toc_cell": false,
   "toc_section_display": "block",
   "toc_window_display": false
  }
 },
 "nbformat": 4,
 "nbformat_minor": 1
}
